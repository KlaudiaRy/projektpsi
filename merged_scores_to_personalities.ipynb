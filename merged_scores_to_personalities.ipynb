{
 "cells": [
  {
   "cell_type": "code",
   "execution_count": 1,
   "metadata": {},
   "outputs": [
    {
     "name": "stdout",
     "output_type": "stream",
     "text": [
      "start\n",
      "gotowe!\n"
     ]
    }
   ],
   "source": [
    "import pandas as pd\n",
    "import numpy as np\n",
    "\n",
    "print(\"start\")\n",
    "pd.set_option('display.max_columns', 500)\n",
    "#import metadata\n",
    "md = pd.read_csv(\"data1/BIRAFFE-metadata.csv\", sep=';')\n",
    "\n",
    "#usunięcie tych rekordów gdzie osoba nie ma danych z gry w space\n",
    "md = md[pd.notnull(md['SPACE'])]\n",
    "md.head()\n",
    "#zostawienie id tych osób, bo pliki mają w nazwie id\n",
    "ids = md['ID'].values\n",
    "\n",
    "import csv\n",
    "import json           \n",
    "\n",
    "import os.path\n",
    "\n",
    "#nowy plik test4.csv\n",
    "with open('data1/merged_scores.csv', 'w', newline='') as csvfile:\n",
    "    #nazwy kolumn- wszystkie z plików json\n",
    "    fieldnames = [\"Timestamp\",\"Value\",\"Score\",\"P_ID\",\"OPENNESS\",\"CONSCIENTIOUSNESS\",\"EXTRAVERSION\",\"AGREEABLENESS\",\"NEUROTICISM\"]\n",
    "    writer = csv.DictWriter(csvfile, fieldnames=fieldnames)\n",
    "    #ustawienie nagłówków\n",
    "    writer.writeheader()\n",
    "    \n",
    "    #dla każdego id otwórz plik json\n",
    "    for my_id in ids:\n",
    "        fi=open(\"data1/SUB\" + str(my_id) + \"-Space.json\")\n",
    "        x = json.load(fi)\n",
    "        person=md.loc[md['ID']==my_id]\n",
    "        #dla każdej paczki danych (w tych klamerkach: {} z pliku)\n",
    "        for i in x:\n",
    "            #sprawdź czy ma klucz 'ID'\n",
    "            if ('Value' in i):\n",
    "                json_data = pd.DataFrame.to_json(person,orient='records')\n",
    "                #print(len(json_data))\n",
    "                json_data=json_data[:-1]\n",
    "                json_data=json_data[1:]\n",
    "                #print(\"\\n\\n\",json_data)\n",
    "                pr=json.loads(json_data)\n",
    "                pr['P_ID'] = pr.pop('ID')\n",
    "                #print(pr)\n",
    "                #print(i)\n",
    "                person_data = { 'P_ID': int(pr['P_ID']), 'OPENNESS': pr['OPENNESS'], 'CONSCIENTIOUSNESS': pr['CONSCIENTIOUSNESS'],'EXTRAVERSION': pr['EXTRAVERSION'],'AGREEABLENESS': pr['AGREEABLENESS'],'NEUROTICISM': pr['NEUROTICISM']}\n",
    "                person_data.update(i)\n",
    "\n",
    "                writer.writerow(person_data)\n",
    "                \n",
    "print(\"gotowe!\")"
   ]
  },
  {
   "cell_type": "code",
   "execution_count": null,
   "metadata": {},
   "outputs": [],
   "source": [
    "import csv\n",
    "import json           \n",
    "\n",
    "import os.path\n",
    "\n",
    "#nowy plik test4.csv\n",
    "with open('data1/merged_scores.csv', 'w', newline='') as csvfile:\n",
    "    #nazwy kolumn- wszystkie z plików json\n",
    "    fieldnames = [\"Timestamp\",\"Value\",\"Score\",\"P_ID\",\"OPENNESS\",\"CONSCIENTIOUSNESS\",\"EXTRAVERSION\",\"AGREEABLENESS\",\"NEUROTICISM\"]\n",
    "    writer = csv.DictWriter(csvfile, fieldnames=fieldnames)\n",
    "    #ustawienie nagłówków\n",
    "    writer.writeheader()\n",
    "    \n",
    "    #dla każdego id otwórz plik json\n",
    "    for my_id in ids:\n",
    "        fi=open(\"data1/SUB\" + str(my_id) + \"-Space.json\")\n",
    "        x = json.load(fi)\n",
    "        person=md.loc[md['ID']==my_id]\n",
    "        #dla każdej paczki danych (w tych klamerkach: {} z pliku)\n",
    "        for i in x:\n",
    "            #sprawdź czy ma klucz 'ID'\n",
    "            if ('Value' in i):\n",
    "                json_data = pd.DataFrame.to_json(person,orient='records')\n",
    "                #print(len(json_data))\n",
    "                json_data=json_data[:-1]\n",
    "                json_data=json_data[1:]\n",
    "                #print(\"\\n\\n\",json_data)\n",
    "                pr=json.loads(json_data)\n",
    "                pr['P_ID'] = pr.pop('ID')\n",
    "                #print(pr)\n",
    "                #print(i)\n",
    "                person_data = { 'P_ID': int(pr['P_ID']), 'OPENNESS': pr['OPENNESS'], 'CONSCIENTIOUSNESS': pr['CONSCIENTIOUSNESS'],'EXTRAVERSION': pr['EXTRAVERSION'],'AGREEABLENESS': pr['AGREEABLENESS'],'NEUROTICISM': pr['NEUROTICISM']}\n",
    "                person_data.update(i)\n",
    "\n",
    "                writer.writerow(person_data)\n",
    "                \n",
    "print(\"gotowe!\")"
   ]
  }
 ],
 "metadata": {
  "kernelspec": {
   "display_name": "Python 3",
   "language": "python",
   "name": "python3"
  },
  "language_info": {
   "codemirror_mode": {
    "name": "ipython",
    "version": 3
   },
   "file_extension": ".py",
   "mimetype": "text/x-python",
   "name": "python",
   "nbconvert_exporter": "python",
   "pygments_lexer": "ipython3",
   "version": "3.7.3"
  }
 },
 "nbformat": 4,
 "nbformat_minor": 4
}
